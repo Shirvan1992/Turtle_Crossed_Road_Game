{
 "cells": [
  {
   "cell_type": "code",
   "execution_count": 1,
   "metadata": {},
   "outputs": [],
   "source": [
    "from turtle import Turtle\n",
    "import random\n",
    "colors = [\"black\", \"yellow\", \"red\", \"green\", \"blue\", \"dark blue\", \"purple\", \"pink\"]\n",
    "starting_moving_distance = 5\n",
    "move_increment = 10\n",
    "\n",
    "class CarManager(Turtle):\n",
    "    \n",
    "    def __init__(self):\n",
    "        super().__init__()\n",
    "        self.hideturtle()\n",
    "        self.all_cars = []\n",
    "        self.car_speed = starting_moving_distance\n",
    "        \n",
    "    def create_car(self):\n",
    "        car_chance = random.randint(1, 4)\n",
    "        if car_chance == 1:\n",
    "            car = Turtle(\"square\")\n",
    "            car.color(random.choice(colors))\n",
    "            car.shapesize(stretch_len = 2, stretch_wid = 1)\n",
    "            car.penup()\n",
    "            ycor = random.choice(range(-250, 250))\n",
    "            car.goto(300, ycor)\n",
    "            self.all_cars.append(car)\n",
    "\n",
    "    def move_cars(self):\n",
    "        for car in self.all_cars:\n",
    "            car.backward(self.car_speed)\n",
    "    \n",
    "    def level_up(self):\n",
    "        self.car_speed += move_increment\n",
    "\n",
    "\n",
    "        \n"
   ]
  },
  {
   "cell_type": "code",
   "execution_count": null,
   "metadata": {},
   "outputs": [],
   "source": []
  },
  {
   "cell_type": "code",
   "execution_count": null,
   "metadata": {},
   "outputs": [],
   "source": []
  }
 ],
 "metadata": {
  "kernelspec": {
   "display_name": "Python 3",
   "language": "python",
   "name": "python3"
  },
  "language_info": {
   "codemirror_mode": {
    "name": "ipython",
    "version": 3
   },
   "file_extension": ".py",
   "mimetype": "text/x-python",
   "name": "python",
   "nbconvert_exporter": "python",
   "pygments_lexer": "ipython3",
   "version": "3.8.5"
  }
 },
 "nbformat": 4,
 "nbformat_minor": 4
}
