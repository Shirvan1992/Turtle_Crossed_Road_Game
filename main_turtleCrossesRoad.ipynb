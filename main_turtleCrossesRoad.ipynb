{
 "cells": [
  {
   "cell_type": "markdown",
   "metadata": {},
   "source": [
    "# Turtle Crosses Road Game"
   ]
  },
  {
   "cell_type": "code",
   "execution_count": 1,
   "metadata": {},
   "outputs": [],
   "source": [
    "from turtle import Turtle, Screen\n",
    "import time\n",
    "%run player.ipynb\n",
    "%run scoreboard.ipynb\n",
    "%run car.ipynb\n",
    "\n",
    "\n",
    "\n",
    "screen = Screen()\n",
    "screen.setup(height=600, width=600)\n",
    "screen.tracer(0)\n",
    "\n",
    "\n",
    "player = Player(0, -280)\n",
    "scoreboard = Scoreboard()\n",
    "car_manager = CarManager()\n",
    "\n",
    "\n",
    "screen.listen()\n",
    "screen.onkey(player.go_up, \"Up\")\n",
    "\n",
    "\n",
    "game_is_on = True\n",
    "while game_is_on:\n",
    "    time.sleep(0.1)\n",
    "    screen.update()\n",
    "    \n",
    "    car_manager.create_car()\n",
    "    car_manager.move_cars()\n",
    "\n",
    "\n",
    "    \n",
    "    # detect turtle reaches to the top\n",
    "    if player.ycor() > 270:\n",
    "        scoreboard.increase_score()\n",
    "        player.reset_position()\n",
    "        car_manager.level_up()\n",
    "    \n",
    "    # detect collision with car\n",
    "    for car in car_manager.all_cars:\n",
    "        if car.distance(player) < 20:\n",
    "            game_is_on =False\n",
    "            scoreboard.game_over()\n",
    "\n",
    "        \n",
    "screen.exitonclick()"
   ]
  },
  {
   "cell_type": "code",
   "execution_count": null,
   "metadata": {},
   "outputs": [],
   "source": []
  }
 ],
 "metadata": {
  "kernelspec": {
   "display_name": "Python 3",
   "language": "python",
   "name": "python3"
  },
  "language_info": {
   "codemirror_mode": {
    "name": "ipython",
    "version": 3
   },
   "file_extension": ".py",
   "mimetype": "text/x-python",
   "name": "python",
   "nbconvert_exporter": "python",
   "pygments_lexer": "ipython3",
   "version": "3.8.5"
  }
 },
 "nbformat": 4,
 "nbformat_minor": 4
}
