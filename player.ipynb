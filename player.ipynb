{
 "cells": [
  {
   "cell_type": "code",
   "execution_count": 1,
   "metadata": {},
   "outputs": [],
   "source": [
    "from turtle import Turtle\n",
    "\n",
    "class Player(Turtle):\n",
    "    \n",
    "    def __init__(self, xcor, ycor):\n",
    "        super().__init__()\n",
    "        self.shape(\"turtle\")\n",
    "        self.color(\"green\")\n",
    "        self.shapesize(stretch_len = 1, stretch_wid = 1)\n",
    "        self.penup()\n",
    "        self.setheading(90)\n",
    "        self.goto(xcor, ycor)\n",
    "\n",
    "    def go_up(self):\n",
    "        new_y = self.ycor() + 20\n",
    "        self.goto(self.xcor(), new_y)\n",
    "\n",
    "    def reset_position(self):\n",
    "        self.goto(0, -280)"
   ]
  },
  {
   "cell_type": "code",
   "execution_count": null,
   "metadata": {},
   "outputs": [],
   "source": []
  }
 ],
 "metadata": {
  "kernelspec": {
   "display_name": "Python 3",
   "language": "python",
   "name": "python3"
  },
  "language_info": {
   "codemirror_mode": {
    "name": "ipython",
    "version": 3
   },
   "file_extension": ".py",
   "mimetype": "text/x-python",
   "name": "python",
   "nbconvert_exporter": "python",
   "pygments_lexer": "ipython3",
   "version": "3.8.5"
  }
 },
 "nbformat": 4,
 "nbformat_minor": 4
}
